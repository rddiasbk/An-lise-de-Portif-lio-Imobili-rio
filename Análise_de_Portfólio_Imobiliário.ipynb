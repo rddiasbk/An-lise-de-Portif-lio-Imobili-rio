{
  "nbformat": 4,
  "nbformat_minor": 0,
  "metadata": {
    "colab": {
      "name": "Análise de Portfólio Imobiliário.ipynb",
      "provenance": [],
      "collapsed_sections": [],
      "mount_file_id": "1Je7GumsjP9qD1Ri_Kt4S7U7UKcaVNASj",
      "authorship_tag": "ABX9TyPf4pxVbdPGP5fn07wQUQLK",
      "include_colab_link": true
    },
    "kernelspec": {
      "name": "python3",
      "display_name": "Python 3"
    },
    "language_info": {
      "name": "python"
    }
  },
  "cells": [
    {
      "cell_type": "markdown",
      "metadata": {
        "id": "view-in-github",
        "colab_type": "text"
      },
      "source": [
        "<a href=\"https://colab.research.google.com/github/rddiasbk/An-lise-de-Portif-lio-Imobili-rio/blob/main/An%C3%A1lise_de_Portf%C3%B3lio_Imobili%C3%A1rio.ipynb\" target=\"_parent\"><img src=\"https://colab.research.google.com/assets/colab-badge.svg\" alt=\"Open In Colab\"/></a>"
      ]
    },
    {
      "cell_type": "markdown",
      "source": [
        "# Análise de Portifólio Imobiliário utilizando o dataset: House Sales in King County, USA\n",
        "disponível no [Kaggle](https://www.kaggle.com/datasets/harlfoxem/housesalesprediction)\n",
        "\n"
      ],
      "metadata": {
        "id": "SQ1hQG7xe18E"
      }
    },
    {
      "cell_type": "markdown",
      "source": [
        "[Dicionário de atributos](https://www.kaggle.com/datasets/harlfoxem/housesalesprediction/discussion/207885)"
      ],
      "metadata": {
        "id": "Rb2hF3Wn1vwT"
      }
    },
    {
      "cell_type": "markdown",
      "source": [
        "# Carregando o Dataframe."
      ],
      "metadata": {
        "id": "fT2TGbJp9VUr"
      }
    },
    {
      "cell_type": "code",
      "execution_count": 36,
      "metadata": {
        "id": "R3LrYIUY2y1D"
      },
      "outputs": [],
      "source": [
        "import pandas as pd\n",
        "import matplotlib.pyplot as plt\n",
        "import plotly.express as px\n",
        "import seaborn as sns"
      ]
    },
    {
      "cell_type": "code",
      "source": [
        "df = pd.read_csv('/content/drive/MyDrive/Dados-Datas/kc_house_data.csv')\n",
        "df"
      ],
      "metadata": {
        "colab": {
          "base_uri": "https://localhost:8080/",
          "height": 488
        },
        "id": "FjOdZyIg3tEG",
        "outputId": "1d769990-a71e-4b5c-a35b-d45e0bbf440a"
      },
      "execution_count": 2,
      "outputs": [
        {
          "output_type": "execute_result",
          "data": {
            "text/plain": [
              "               id             date     price  bedrooms  bathrooms  \\\n",
              "0      7129300520  20141013T000000  221900.0         3       1.00   \n",
              "1      6414100192  20141209T000000  538000.0         3       2.25   \n",
              "2      5631500400  20150225T000000  180000.0         2       1.00   \n",
              "3      2487200875  20141209T000000  604000.0         4       3.00   \n",
              "4      1954400510  20150218T000000  510000.0         3       2.00   \n",
              "...           ...              ...       ...       ...        ...   \n",
              "21608   263000018  20140521T000000  360000.0         3       2.50   \n",
              "21609  6600060120  20150223T000000  400000.0         4       2.50   \n",
              "21610  1523300141  20140623T000000  402101.0         2       0.75   \n",
              "21611   291310100  20150116T000000  400000.0         3       2.50   \n",
              "21612  1523300157  20141015T000000  325000.0         2       0.75   \n",
              "\n",
              "       sqft_living  sqft_lot  floors  waterfront  view  ...  grade  \\\n",
              "0             1180      5650     1.0           0     0  ...      7   \n",
              "1             2570      7242     2.0           0     0  ...      7   \n",
              "2              770     10000     1.0           0     0  ...      6   \n",
              "3             1960      5000     1.0           0     0  ...      7   \n",
              "4             1680      8080     1.0           0     0  ...      8   \n",
              "...            ...       ...     ...         ...   ...  ...    ...   \n",
              "21608         1530      1131     3.0           0     0  ...      8   \n",
              "21609         2310      5813     2.0           0     0  ...      8   \n",
              "21610         1020      1350     2.0           0     0  ...      7   \n",
              "21611         1600      2388     2.0           0     0  ...      8   \n",
              "21612         1020      1076     2.0           0     0  ...      7   \n",
              "\n",
              "       sqft_above  sqft_basement  yr_built  yr_renovated  zipcode      lat  \\\n",
              "0            1180              0      1955             0    98178  47.5112   \n",
              "1            2170            400      1951          1991    98125  47.7210   \n",
              "2             770              0      1933             0    98028  47.7379   \n",
              "3            1050            910      1965             0    98136  47.5208   \n",
              "4            1680              0      1987             0    98074  47.6168   \n",
              "...           ...            ...       ...           ...      ...      ...   \n",
              "21608        1530              0      2009             0    98103  47.6993   \n",
              "21609        2310              0      2014             0    98146  47.5107   \n",
              "21610        1020              0      2009             0    98144  47.5944   \n",
              "21611        1600              0      2004             0    98027  47.5345   \n",
              "21612        1020              0      2008             0    98144  47.5941   \n",
              "\n",
              "          long  sqft_living15  sqft_lot15  \n",
              "0     -122.257           1340        5650  \n",
              "1     -122.319           1690        7639  \n",
              "2     -122.233           2720        8062  \n",
              "3     -122.393           1360        5000  \n",
              "4     -122.045           1800        7503  \n",
              "...        ...            ...         ...  \n",
              "21608 -122.346           1530        1509  \n",
              "21609 -122.362           1830        7200  \n",
              "21610 -122.299           1020        2007  \n",
              "21611 -122.069           1410        1287  \n",
              "21612 -122.299           1020        1357  \n",
              "\n",
              "[21613 rows x 21 columns]"
            ],
            "text/html": [
              "\n",
              "  <div id=\"df-bfa4a81f-0077-440c-83cf-40dc19207255\">\n",
              "    <div class=\"colab-df-container\">\n",
              "      <div>\n",
              "<style scoped>\n",
              "    .dataframe tbody tr th:only-of-type {\n",
              "        vertical-align: middle;\n",
              "    }\n",
              "\n",
              "    .dataframe tbody tr th {\n",
              "        vertical-align: top;\n",
              "    }\n",
              "\n",
              "    .dataframe thead th {\n",
              "        text-align: right;\n",
              "    }\n",
              "</style>\n",
              "<table border=\"1\" class=\"dataframe\">\n",
              "  <thead>\n",
              "    <tr style=\"text-align: right;\">\n",
              "      <th></th>\n",
              "      <th>id</th>\n",
              "      <th>date</th>\n",
              "      <th>price</th>\n",
              "      <th>bedrooms</th>\n",
              "      <th>bathrooms</th>\n",
              "      <th>sqft_living</th>\n",
              "      <th>sqft_lot</th>\n",
              "      <th>floors</th>\n",
              "      <th>waterfront</th>\n",
              "      <th>view</th>\n",
              "      <th>...</th>\n",
              "      <th>grade</th>\n",
              "      <th>sqft_above</th>\n",
              "      <th>sqft_basement</th>\n",
              "      <th>yr_built</th>\n",
              "      <th>yr_renovated</th>\n",
              "      <th>zipcode</th>\n",
              "      <th>lat</th>\n",
              "      <th>long</th>\n",
              "      <th>sqft_living15</th>\n",
              "      <th>sqft_lot15</th>\n",
              "    </tr>\n",
              "  </thead>\n",
              "  <tbody>\n",
              "    <tr>\n",
              "      <th>0</th>\n",
              "      <td>7129300520</td>\n",
              "      <td>20141013T000000</td>\n",
              "      <td>221900.0</td>\n",
              "      <td>3</td>\n",
              "      <td>1.00</td>\n",
              "      <td>1180</td>\n",
              "      <td>5650</td>\n",
              "      <td>1.0</td>\n",
              "      <td>0</td>\n",
              "      <td>0</td>\n",
              "      <td>...</td>\n",
              "      <td>7</td>\n",
              "      <td>1180</td>\n",
              "      <td>0</td>\n",
              "      <td>1955</td>\n",
              "      <td>0</td>\n",
              "      <td>98178</td>\n",
              "      <td>47.5112</td>\n",
              "      <td>-122.257</td>\n",
              "      <td>1340</td>\n",
              "      <td>5650</td>\n",
              "    </tr>\n",
              "    <tr>\n",
              "      <th>1</th>\n",
              "      <td>6414100192</td>\n",
              "      <td>20141209T000000</td>\n",
              "      <td>538000.0</td>\n",
              "      <td>3</td>\n",
              "      <td>2.25</td>\n",
              "      <td>2570</td>\n",
              "      <td>7242</td>\n",
              "      <td>2.0</td>\n",
              "      <td>0</td>\n",
              "      <td>0</td>\n",
              "      <td>...</td>\n",
              "      <td>7</td>\n",
              "      <td>2170</td>\n",
              "      <td>400</td>\n",
              "      <td>1951</td>\n",
              "      <td>1991</td>\n",
              "      <td>98125</td>\n",
              "      <td>47.7210</td>\n",
              "      <td>-122.319</td>\n",
              "      <td>1690</td>\n",
              "      <td>7639</td>\n",
              "    </tr>\n",
              "    <tr>\n",
              "      <th>2</th>\n",
              "      <td>5631500400</td>\n",
              "      <td>20150225T000000</td>\n",
              "      <td>180000.0</td>\n",
              "      <td>2</td>\n",
              "      <td>1.00</td>\n",
              "      <td>770</td>\n",
              "      <td>10000</td>\n",
              "      <td>1.0</td>\n",
              "      <td>0</td>\n",
              "      <td>0</td>\n",
              "      <td>...</td>\n",
              "      <td>6</td>\n",
              "      <td>770</td>\n",
              "      <td>0</td>\n",
              "      <td>1933</td>\n",
              "      <td>0</td>\n",
              "      <td>98028</td>\n",
              "      <td>47.7379</td>\n",
              "      <td>-122.233</td>\n",
              "      <td>2720</td>\n",
              "      <td>8062</td>\n",
              "    </tr>\n",
              "    <tr>\n",
              "      <th>3</th>\n",
              "      <td>2487200875</td>\n",
              "      <td>20141209T000000</td>\n",
              "      <td>604000.0</td>\n",
              "      <td>4</td>\n",
              "      <td>3.00</td>\n",
              "      <td>1960</td>\n",
              "      <td>5000</td>\n",
              "      <td>1.0</td>\n",
              "      <td>0</td>\n",
              "      <td>0</td>\n",
              "      <td>...</td>\n",
              "      <td>7</td>\n",
              "      <td>1050</td>\n",
              "      <td>910</td>\n",
              "      <td>1965</td>\n",
              "      <td>0</td>\n",
              "      <td>98136</td>\n",
              "      <td>47.5208</td>\n",
              "      <td>-122.393</td>\n",
              "      <td>1360</td>\n",
              "      <td>5000</td>\n",
              "    </tr>\n",
              "    <tr>\n",
              "      <th>4</th>\n",
              "      <td>1954400510</td>\n",
              "      <td>20150218T000000</td>\n",
              "      <td>510000.0</td>\n",
              "      <td>3</td>\n",
              "      <td>2.00</td>\n",
              "      <td>1680</td>\n",
              "      <td>8080</td>\n",
              "      <td>1.0</td>\n",
              "      <td>0</td>\n",
              "      <td>0</td>\n",
              "      <td>...</td>\n",
              "      <td>8</td>\n",
              "      <td>1680</td>\n",
              "      <td>0</td>\n",
              "      <td>1987</td>\n",
              "      <td>0</td>\n",
              "      <td>98074</td>\n",
              "      <td>47.6168</td>\n",
              "      <td>-122.045</td>\n",
              "      <td>1800</td>\n",
              "      <td>7503</td>\n",
              "    </tr>\n",
              "    <tr>\n",
              "      <th>...</th>\n",
              "      <td>...</td>\n",
              "      <td>...</td>\n",
              "      <td>...</td>\n",
              "      <td>...</td>\n",
              "      <td>...</td>\n",
              "      <td>...</td>\n",
              "      <td>...</td>\n",
              "      <td>...</td>\n",
              "      <td>...</td>\n",
              "      <td>...</td>\n",
              "      <td>...</td>\n",
              "      <td>...</td>\n",
              "      <td>...</td>\n",
              "      <td>...</td>\n",
              "      <td>...</td>\n",
              "      <td>...</td>\n",
              "      <td>...</td>\n",
              "      <td>...</td>\n",
              "      <td>...</td>\n",
              "      <td>...</td>\n",
              "      <td>...</td>\n",
              "    </tr>\n",
              "    <tr>\n",
              "      <th>21608</th>\n",
              "      <td>263000018</td>\n",
              "      <td>20140521T000000</td>\n",
              "      <td>360000.0</td>\n",
              "      <td>3</td>\n",
              "      <td>2.50</td>\n",
              "      <td>1530</td>\n",
              "      <td>1131</td>\n",
              "      <td>3.0</td>\n",
              "      <td>0</td>\n",
              "      <td>0</td>\n",
              "      <td>...</td>\n",
              "      <td>8</td>\n",
              "      <td>1530</td>\n",
              "      <td>0</td>\n",
              "      <td>2009</td>\n",
              "      <td>0</td>\n",
              "      <td>98103</td>\n",
              "      <td>47.6993</td>\n",
              "      <td>-122.346</td>\n",
              "      <td>1530</td>\n",
              "      <td>1509</td>\n",
              "    </tr>\n",
              "    <tr>\n",
              "      <th>21609</th>\n",
              "      <td>6600060120</td>\n",
              "      <td>20150223T000000</td>\n",
              "      <td>400000.0</td>\n",
              "      <td>4</td>\n",
              "      <td>2.50</td>\n",
              "      <td>2310</td>\n",
              "      <td>5813</td>\n",
              "      <td>2.0</td>\n",
              "      <td>0</td>\n",
              "      <td>0</td>\n",
              "      <td>...</td>\n",
              "      <td>8</td>\n",
              "      <td>2310</td>\n",
              "      <td>0</td>\n",
              "      <td>2014</td>\n",
              "      <td>0</td>\n",
              "      <td>98146</td>\n",
              "      <td>47.5107</td>\n",
              "      <td>-122.362</td>\n",
              "      <td>1830</td>\n",
              "      <td>7200</td>\n",
              "    </tr>\n",
              "    <tr>\n",
              "      <th>21610</th>\n",
              "      <td>1523300141</td>\n",
              "      <td>20140623T000000</td>\n",
              "      <td>402101.0</td>\n",
              "      <td>2</td>\n",
              "      <td>0.75</td>\n",
              "      <td>1020</td>\n",
              "      <td>1350</td>\n",
              "      <td>2.0</td>\n",
              "      <td>0</td>\n",
              "      <td>0</td>\n",
              "      <td>...</td>\n",
              "      <td>7</td>\n",
              "      <td>1020</td>\n",
              "      <td>0</td>\n",
              "      <td>2009</td>\n",
              "      <td>0</td>\n",
              "      <td>98144</td>\n",
              "      <td>47.5944</td>\n",
              "      <td>-122.299</td>\n",
              "      <td>1020</td>\n",
              "      <td>2007</td>\n",
              "    </tr>\n",
              "    <tr>\n",
              "      <th>21611</th>\n",
              "      <td>291310100</td>\n",
              "      <td>20150116T000000</td>\n",
              "      <td>400000.0</td>\n",
              "      <td>3</td>\n",
              "      <td>2.50</td>\n",
              "      <td>1600</td>\n",
              "      <td>2388</td>\n",
              "      <td>2.0</td>\n",
              "      <td>0</td>\n",
              "      <td>0</td>\n",
              "      <td>...</td>\n",
              "      <td>8</td>\n",
              "      <td>1600</td>\n",
              "      <td>0</td>\n",
              "      <td>2004</td>\n",
              "      <td>0</td>\n",
              "      <td>98027</td>\n",
              "      <td>47.5345</td>\n",
              "      <td>-122.069</td>\n",
              "      <td>1410</td>\n",
              "      <td>1287</td>\n",
              "    </tr>\n",
              "    <tr>\n",
              "      <th>21612</th>\n",
              "      <td>1523300157</td>\n",
              "      <td>20141015T000000</td>\n",
              "      <td>325000.0</td>\n",
              "      <td>2</td>\n",
              "      <td>0.75</td>\n",
              "      <td>1020</td>\n",
              "      <td>1076</td>\n",
              "      <td>2.0</td>\n",
              "      <td>0</td>\n",
              "      <td>0</td>\n",
              "      <td>...</td>\n",
              "      <td>7</td>\n",
              "      <td>1020</td>\n",
              "      <td>0</td>\n",
              "      <td>2008</td>\n",
              "      <td>0</td>\n",
              "      <td>98144</td>\n",
              "      <td>47.5941</td>\n",
              "      <td>-122.299</td>\n",
              "      <td>1020</td>\n",
              "      <td>1357</td>\n",
              "    </tr>\n",
              "  </tbody>\n",
              "</table>\n",
              "<p>21613 rows × 21 columns</p>\n",
              "</div>\n",
              "      <button class=\"colab-df-convert\" onclick=\"convertToInteractive('df-bfa4a81f-0077-440c-83cf-40dc19207255')\"\n",
              "              title=\"Convert this dataframe to an interactive table.\"\n",
              "              style=\"display:none;\">\n",
              "        \n",
              "  <svg xmlns=\"http://www.w3.org/2000/svg\" height=\"24px\"viewBox=\"0 0 24 24\"\n",
              "       width=\"24px\">\n",
              "    <path d=\"M0 0h24v24H0V0z\" fill=\"none\"/>\n",
              "    <path d=\"M18.56 5.44l.94 2.06.94-2.06 2.06-.94-2.06-.94-.94-2.06-.94 2.06-2.06.94zm-11 1L8.5 8.5l.94-2.06 2.06-.94-2.06-.94L8.5 2.5l-.94 2.06-2.06.94zm10 10l.94 2.06.94-2.06 2.06-.94-2.06-.94-.94-2.06-.94 2.06-2.06.94z\"/><path d=\"M17.41 7.96l-1.37-1.37c-.4-.4-.92-.59-1.43-.59-.52 0-1.04.2-1.43.59L10.3 9.45l-7.72 7.72c-.78.78-.78 2.05 0 2.83L4 21.41c.39.39.9.59 1.41.59.51 0 1.02-.2 1.41-.59l7.78-7.78 2.81-2.81c.8-.78.8-2.07 0-2.86zM5.41 20L4 18.59l7.72-7.72 1.47 1.35L5.41 20z\"/>\n",
              "  </svg>\n",
              "      </button>\n",
              "      \n",
              "  <style>\n",
              "    .colab-df-container {\n",
              "      display:flex;\n",
              "      flex-wrap:wrap;\n",
              "      gap: 12px;\n",
              "    }\n",
              "\n",
              "    .colab-df-convert {\n",
              "      background-color: #E8F0FE;\n",
              "      border: none;\n",
              "      border-radius: 50%;\n",
              "      cursor: pointer;\n",
              "      display: none;\n",
              "      fill: #1967D2;\n",
              "      height: 32px;\n",
              "      padding: 0 0 0 0;\n",
              "      width: 32px;\n",
              "    }\n",
              "\n",
              "    .colab-df-convert:hover {\n",
              "      background-color: #E2EBFA;\n",
              "      box-shadow: 0px 1px 2px rgba(60, 64, 67, 0.3), 0px 1px 3px 1px rgba(60, 64, 67, 0.15);\n",
              "      fill: #174EA6;\n",
              "    }\n",
              "\n",
              "    [theme=dark] .colab-df-convert {\n",
              "      background-color: #3B4455;\n",
              "      fill: #D2E3FC;\n",
              "    }\n",
              "\n",
              "    [theme=dark] .colab-df-convert:hover {\n",
              "      background-color: #434B5C;\n",
              "      box-shadow: 0px 1px 3px 1px rgba(0, 0, 0, 0.15);\n",
              "      filter: drop-shadow(0px 1px 2px rgba(0, 0, 0, 0.3));\n",
              "      fill: #FFFFFF;\n",
              "    }\n",
              "  </style>\n",
              "\n",
              "      <script>\n",
              "        const buttonEl =\n",
              "          document.querySelector('#df-bfa4a81f-0077-440c-83cf-40dc19207255 button.colab-df-convert');\n",
              "        buttonEl.style.display =\n",
              "          google.colab.kernel.accessAllowed ? 'block' : 'none';\n",
              "\n",
              "        async function convertToInteractive(key) {\n",
              "          const element = document.querySelector('#df-bfa4a81f-0077-440c-83cf-40dc19207255');\n",
              "          const dataTable =\n",
              "            await google.colab.kernel.invokeFunction('convertToInteractive',\n",
              "                                                     [key], {});\n",
              "          if (!dataTable) return;\n",
              "\n",
              "          const docLinkHtml = 'Like what you see? Visit the ' +\n",
              "            '<a target=\"_blank\" href=https://colab.research.google.com/notebooks/data_table.ipynb>data table notebook</a>'\n",
              "            + ' to learn more about interactive tables.';\n",
              "          element.innerHTML = '';\n",
              "          dataTable['output_type'] = 'display_data';\n",
              "          await google.colab.output.renderOutput(dataTable, element);\n",
              "          const docLink = document.createElement('div');\n",
              "          docLink.innerHTML = docLinkHtml;\n",
              "          element.appendChild(docLink);\n",
              "        }\n",
              "      </script>\n",
              "    </div>\n",
              "  </div>\n",
              "  "
            ]
          },
          "metadata": {},
          "execution_count": 2
        }
      ]
    },
    {
      "cell_type": "code",
      "source": [
        "df.dtypes"
      ],
      "metadata": {
        "colab": {
          "base_uri": "https://localhost:8080/"
        },
        "id": "llOuexMFQjg0",
        "outputId": "90929bf7-966d-4c26-f1ad-80a7e98725c8"
      },
      "execution_count": 3,
      "outputs": [
        {
          "output_type": "execute_result",
          "data": {
            "text/plain": [
              "id                 int64\n",
              "date              object\n",
              "price            float64\n",
              "bedrooms           int64\n",
              "bathrooms        float64\n",
              "sqft_living        int64\n",
              "sqft_lot           int64\n",
              "floors           float64\n",
              "waterfront         int64\n",
              "view               int64\n",
              "condition          int64\n",
              "grade              int64\n",
              "sqft_above         int64\n",
              "sqft_basement      int64\n",
              "yr_built           int64\n",
              "yr_renovated       int64\n",
              "zipcode            int64\n",
              "lat              float64\n",
              "long             float64\n",
              "sqft_living15      int64\n",
              "sqft_lot15         int64\n",
              "dtype: object"
            ]
          },
          "metadata": {},
          "execution_count": 3
        }
      ]
    },
    {
      "cell_type": "markdown",
      "source": [
        "## Formatando o dataframe"
      ],
      "metadata": {
        "id": "G8YS3QkfBZme"
      }
    },
    {
      "cell_type": "markdown",
      "source": [
        "### Transformado as casas decimais para melhor visualização dos valores."
      ],
      "metadata": {
        "id": "NvbI_KDpTvmq"
      }
    },
    {
      "cell_type": "code",
      "source": [
        "pd.options.display.float_format = '{:,.2f}'.format\n",
        "#formata as casas decimais"
      ],
      "metadata": {
        "id": "CNEv0VH3PbVf"
      },
      "execution_count": 29,
      "outputs": []
    },
    {
      "cell_type": "code",
      "source": [
        "df.head(5)"
      ],
      "metadata": {
        "id": "ZRL8J8kv3zik",
        "colab": {
          "base_uri": "https://localhost:8080/",
          "height": 299
        },
        "outputId": "174fa612-e225-401b-e490-be4ba5454254"
      },
      "execution_count": 30,
      "outputs": [
        {
          "output_type": "execute_result",
          "data": {
            "text/plain": [
              "           id       date      price  bedrooms  bathrooms  sqft_living  \\\n",
              "0  7129300520 2014-10-13 221,900.00         3       1.00         1180   \n",
              "1  6414100192 2014-12-09 538,000.00         3       2.25         2570   \n",
              "2  5631500400 2015-02-25 180,000.00         2       1.00          770   \n",
              "3  2487200875 2014-12-09 604,000.00         4       3.00         1960   \n",
              "4  1954400510 2015-02-18 510,000.00         3       2.00         1680   \n",
              "\n",
              "   sqft_lot  floors  waterfront  view  ...  sqft_basement  yr_built  \\\n",
              "0      5650    1.00           0     0  ...              0      1955   \n",
              "1      7242    2.00           0     0  ...            400      1951   \n",
              "2     10000    1.00           0     0  ...              0      1933   \n",
              "3      5000    1.00           0     0  ...            910      1965   \n",
              "4      8080    1.00           0     0  ...              0      1987   \n",
              "\n",
              "   yr_renovated  zipcode   lat    long  sqft_living15  sqft_lot15     m2  \\\n",
              "0             0    98178 47.51 -122.26           1340        5650 109.74   \n",
              "1          1991    98125 47.72 -122.32           1690        7639 239.01   \n",
              "2             0    98028 47.74 -122.23           2720        8062  71.61   \n",
              "3             0    98136 47.52 -122.39           1360        5000 182.28   \n",
              "4             0    98074 47.62 -122.05           1800        7503 156.24   \n",
              "\n",
              "           level  \n",
              "0       standard  \n",
              "1       standard  \n",
              "2       standard  \n",
              "3  high_standard  \n",
              "4       standard  \n",
              "\n",
              "[5 rows x 23 columns]"
            ],
            "text/html": [
              "\n",
              "  <div id=\"df-9cb80b71-d36e-465b-8eb6-710e1314f88b\">\n",
              "    <div class=\"colab-df-container\">\n",
              "      <div>\n",
              "<style scoped>\n",
              "    .dataframe tbody tr th:only-of-type {\n",
              "        vertical-align: middle;\n",
              "    }\n",
              "\n",
              "    .dataframe tbody tr th {\n",
              "        vertical-align: top;\n",
              "    }\n",
              "\n",
              "    .dataframe thead th {\n",
              "        text-align: right;\n",
              "    }\n",
              "</style>\n",
              "<table border=\"1\" class=\"dataframe\">\n",
              "  <thead>\n",
              "    <tr style=\"text-align: right;\">\n",
              "      <th></th>\n",
              "      <th>id</th>\n",
              "      <th>date</th>\n",
              "      <th>price</th>\n",
              "      <th>bedrooms</th>\n",
              "      <th>bathrooms</th>\n",
              "      <th>sqft_living</th>\n",
              "      <th>sqft_lot</th>\n",
              "      <th>floors</th>\n",
              "      <th>waterfront</th>\n",
              "      <th>view</th>\n",
              "      <th>...</th>\n",
              "      <th>sqft_basement</th>\n",
              "      <th>yr_built</th>\n",
              "      <th>yr_renovated</th>\n",
              "      <th>zipcode</th>\n",
              "      <th>lat</th>\n",
              "      <th>long</th>\n",
              "      <th>sqft_living15</th>\n",
              "      <th>sqft_lot15</th>\n",
              "      <th>m2</th>\n",
              "      <th>level</th>\n",
              "    </tr>\n",
              "  </thead>\n",
              "  <tbody>\n",
              "    <tr>\n",
              "      <th>0</th>\n",
              "      <td>7129300520</td>\n",
              "      <td>2014-10-13</td>\n",
              "      <td>221,900.00</td>\n",
              "      <td>3</td>\n",
              "      <td>1.00</td>\n",
              "      <td>1180</td>\n",
              "      <td>5650</td>\n",
              "      <td>1.00</td>\n",
              "      <td>0</td>\n",
              "      <td>0</td>\n",
              "      <td>...</td>\n",
              "      <td>0</td>\n",
              "      <td>1955</td>\n",
              "      <td>0</td>\n",
              "      <td>98178</td>\n",
              "      <td>47.51</td>\n",
              "      <td>-122.26</td>\n",
              "      <td>1340</td>\n",
              "      <td>5650</td>\n",
              "      <td>109.74</td>\n",
              "      <td>standard</td>\n",
              "    </tr>\n",
              "    <tr>\n",
              "      <th>1</th>\n",
              "      <td>6414100192</td>\n",
              "      <td>2014-12-09</td>\n",
              "      <td>538,000.00</td>\n",
              "      <td>3</td>\n",
              "      <td>2.25</td>\n",
              "      <td>2570</td>\n",
              "      <td>7242</td>\n",
              "      <td>2.00</td>\n",
              "      <td>0</td>\n",
              "      <td>0</td>\n",
              "      <td>...</td>\n",
              "      <td>400</td>\n",
              "      <td>1951</td>\n",
              "      <td>1991</td>\n",
              "      <td>98125</td>\n",
              "      <td>47.72</td>\n",
              "      <td>-122.32</td>\n",
              "      <td>1690</td>\n",
              "      <td>7639</td>\n",
              "      <td>239.01</td>\n",
              "      <td>standard</td>\n",
              "    </tr>\n",
              "    <tr>\n",
              "      <th>2</th>\n",
              "      <td>5631500400</td>\n",
              "      <td>2015-02-25</td>\n",
              "      <td>180,000.00</td>\n",
              "      <td>2</td>\n",
              "      <td>1.00</td>\n",
              "      <td>770</td>\n",
              "      <td>10000</td>\n",
              "      <td>1.00</td>\n",
              "      <td>0</td>\n",
              "      <td>0</td>\n",
              "      <td>...</td>\n",
              "      <td>0</td>\n",
              "      <td>1933</td>\n",
              "      <td>0</td>\n",
              "      <td>98028</td>\n",
              "      <td>47.74</td>\n",
              "      <td>-122.23</td>\n",
              "      <td>2720</td>\n",
              "      <td>8062</td>\n",
              "      <td>71.61</td>\n",
              "      <td>standard</td>\n",
              "    </tr>\n",
              "    <tr>\n",
              "      <th>3</th>\n",
              "      <td>2487200875</td>\n",
              "      <td>2014-12-09</td>\n",
              "      <td>604,000.00</td>\n",
              "      <td>4</td>\n",
              "      <td>3.00</td>\n",
              "      <td>1960</td>\n",
              "      <td>5000</td>\n",
              "      <td>1.00</td>\n",
              "      <td>0</td>\n",
              "      <td>0</td>\n",
              "      <td>...</td>\n",
              "      <td>910</td>\n",
              "      <td>1965</td>\n",
              "      <td>0</td>\n",
              "      <td>98136</td>\n",
              "      <td>47.52</td>\n",
              "      <td>-122.39</td>\n",
              "      <td>1360</td>\n",
              "      <td>5000</td>\n",
              "      <td>182.28</td>\n",
              "      <td>high_standard</td>\n",
              "    </tr>\n",
              "    <tr>\n",
              "      <th>4</th>\n",
              "      <td>1954400510</td>\n",
              "      <td>2015-02-18</td>\n",
              "      <td>510,000.00</td>\n",
              "      <td>3</td>\n",
              "      <td>2.00</td>\n",
              "      <td>1680</td>\n",
              "      <td>8080</td>\n",
              "      <td>1.00</td>\n",
              "      <td>0</td>\n",
              "      <td>0</td>\n",
              "      <td>...</td>\n",
              "      <td>0</td>\n",
              "      <td>1987</td>\n",
              "      <td>0</td>\n",
              "      <td>98074</td>\n",
              "      <td>47.62</td>\n",
              "      <td>-122.05</td>\n",
              "      <td>1800</td>\n",
              "      <td>7503</td>\n",
              "      <td>156.24</td>\n",
              "      <td>standard</td>\n",
              "    </tr>\n",
              "  </tbody>\n",
              "</table>\n",
              "<p>5 rows × 23 columns</p>\n",
              "</div>\n",
              "      <button class=\"colab-df-convert\" onclick=\"convertToInteractive('df-9cb80b71-d36e-465b-8eb6-710e1314f88b')\"\n",
              "              title=\"Convert this dataframe to an interactive table.\"\n",
              "              style=\"display:none;\">\n",
              "        \n",
              "  <svg xmlns=\"http://www.w3.org/2000/svg\" height=\"24px\"viewBox=\"0 0 24 24\"\n",
              "       width=\"24px\">\n",
              "    <path d=\"M0 0h24v24H0V0z\" fill=\"none\"/>\n",
              "    <path d=\"M18.56 5.44l.94 2.06.94-2.06 2.06-.94-2.06-.94-.94-2.06-.94 2.06-2.06.94zm-11 1L8.5 8.5l.94-2.06 2.06-.94-2.06-.94L8.5 2.5l-.94 2.06-2.06.94zm10 10l.94 2.06.94-2.06 2.06-.94-2.06-.94-.94-2.06-.94 2.06-2.06.94z\"/><path d=\"M17.41 7.96l-1.37-1.37c-.4-.4-.92-.59-1.43-.59-.52 0-1.04.2-1.43.59L10.3 9.45l-7.72 7.72c-.78.78-.78 2.05 0 2.83L4 21.41c.39.39.9.59 1.41.59.51 0 1.02-.2 1.41-.59l7.78-7.78 2.81-2.81c.8-.78.8-2.07 0-2.86zM5.41 20L4 18.59l7.72-7.72 1.47 1.35L5.41 20z\"/>\n",
              "  </svg>\n",
              "      </button>\n",
              "      \n",
              "  <style>\n",
              "    .colab-df-container {\n",
              "      display:flex;\n",
              "      flex-wrap:wrap;\n",
              "      gap: 12px;\n",
              "    }\n",
              "\n",
              "    .colab-df-convert {\n",
              "      background-color: #E8F0FE;\n",
              "      border: none;\n",
              "      border-radius: 50%;\n",
              "      cursor: pointer;\n",
              "      display: none;\n",
              "      fill: #1967D2;\n",
              "      height: 32px;\n",
              "      padding: 0 0 0 0;\n",
              "      width: 32px;\n",
              "    }\n",
              "\n",
              "    .colab-df-convert:hover {\n",
              "      background-color: #E2EBFA;\n",
              "      box-shadow: 0px 1px 2px rgba(60, 64, 67, 0.3), 0px 1px 3px 1px rgba(60, 64, 67, 0.15);\n",
              "      fill: #174EA6;\n",
              "    }\n",
              "\n",
              "    [theme=dark] .colab-df-convert {\n",
              "      background-color: #3B4455;\n",
              "      fill: #D2E3FC;\n",
              "    }\n",
              "\n",
              "    [theme=dark] .colab-df-convert:hover {\n",
              "      background-color: #434B5C;\n",
              "      box-shadow: 0px 1px 3px 1px rgba(0, 0, 0, 0.15);\n",
              "      filter: drop-shadow(0px 1px 2px rgba(0, 0, 0, 0.3));\n",
              "      fill: #FFFFFF;\n",
              "    }\n",
              "  </style>\n",
              "\n",
              "      <script>\n",
              "        const buttonEl =\n",
              "          document.querySelector('#df-9cb80b71-d36e-465b-8eb6-710e1314f88b button.colab-df-convert');\n",
              "        buttonEl.style.display =\n",
              "          google.colab.kernel.accessAllowed ? 'block' : 'none';\n",
              "\n",
              "        async function convertToInteractive(key) {\n",
              "          const element = document.querySelector('#df-9cb80b71-d36e-465b-8eb6-710e1314f88b');\n",
              "          const dataTable =\n",
              "            await google.colab.kernel.invokeFunction('convertToInteractive',\n",
              "                                                     [key], {});\n",
              "          if (!dataTable) return;\n",
              "\n",
              "          const docLinkHtml = 'Like what you see? Visit the ' +\n",
              "            '<a target=\"_blank\" href=https://colab.research.google.com/notebooks/data_table.ipynb>data table notebook</a>'\n",
              "            + ' to learn more about interactive tables.';\n",
              "          element.innerHTML = '';\n",
              "          dataTable['output_type'] = 'display_data';\n",
              "          await google.colab.output.renderOutput(dataTable, element);\n",
              "          const docLink = document.createElement('div');\n",
              "          docLink.innerHTML = docLinkHtml;\n",
              "          element.appendChild(docLink);\n",
              "        }\n",
              "      </script>\n",
              "    </div>\n",
              "  </div>\n",
              "  "
            ]
          },
          "metadata": {},
          "execution_count": 30
        }
      ]
    },
    {
      "cell_type": "markdown",
      "source": [
        "### Transformando a coluna date de objeto para data."
      ],
      "metadata": {
        "id": "mupNwLOiT3c5"
      }
    },
    {
      "cell_type": "markdown",
      "source": [
        "- Utiliza a função do pandas `.to_datetime()` e guarda na coluna date do DF\n",
        "- Converte para o padrão D-M-Y brasileiro através do `.dt.strftime()`\n",
        "- Erro ao buscar a data mais antiga se utilizar a fórmula: `df['date'] = pd.to_datetime(df['date'], format='%Y-%m-%d %H:%M:%S').dt.strftime('%d-%m-%Y')`."
      ],
      "metadata": {
        "id": "JZ2Y1RXjUbab"
      }
    },
    {
      "cell_type": "code",
      "source": [
        "df['date'] = pd.to_datetime(df['date'])"
      ],
      "metadata": {
        "id": "PdqnbEVST8Km"
      },
      "execution_count": 6,
      "outputs": []
    },
    {
      "cell_type": "markdown",
      "source": [
        "# 1) Quantas casas estão disponíveis?\n",
        "- **Solução**: Contar o número de Ids distintos.\n",
        "- Outra opção é utilizar `len(df.id.unique())` - ou dar `drop_duplicates` e ver através do `len`"
      ],
      "metadata": {
        "id": "iSyX9ntQSHfH"
      }
    },
    {
      "cell_type": "markdown",
      "source": [
        "### **Resposta:** Estão disponíveis 21.436 casas"
      ],
      "metadata": {
        "id": "Gwc1phYsSd84"
      }
    },
    {
      "cell_type": "code",
      "source": [
        "df.id.nunique()\n"
      ],
      "metadata": {
        "colab": {
          "base_uri": "https://localhost:8080/"
        },
        "id": "lYGP_LOOLarY",
        "outputId": "00076312-7d40-4eb4-a978-db0ff772309d"
      },
      "execution_count": 7,
      "outputs": [
        {
          "output_type": "execute_result",
          "data": {
            "text/plain": [
              "21436"
            ]
          },
          "metadata": {},
          "execution_count": 7
        }
      ]
    },
    {
      "cell_type": "markdown",
      "source": [
        "# 2) Quantos atributos as casas possuem?\n",
        "**Solução:** Contar o número de colunas:"
      ],
      "metadata": {
        "id": "OlAiFk_MSoRH"
      }
    },
    {
      "cell_type": "markdown",
      "source": [
        "### **Resposta:** O portifólio possui 21 atributos. Os 11 mais relevantes em relação as casas estão dispostos a seguir: \n",
        "\n",
        "\n",
        "1.   Bedrooms \n",
        "2.   Bathrooms\n",
        "3.   Sqft_living\n",
        "4.   Sqft_lot\n",
        "5.   Floors\n",
        "6.   Waterfront\n",
        "7.   View\n",
        "8.   Condition\n",
        "9.   Grade\n",
        "10.  Sqft_above\n",
        "11.  Sqft_basement \n"
      ],
      "metadata": {
        "id": "yFmLxlNgS5NB"
      }
    },
    {
      "cell_type": "code",
      "source": [
        "df.columns"
      ],
      "metadata": {
        "colab": {
          "base_uri": "https://localhost:8080/"
        },
        "id": "QDPUuoEmSHBH",
        "outputId": "ccb69823-5bc0-455e-ebb2-7009b674b08d"
      },
      "execution_count": 8,
      "outputs": [
        {
          "output_type": "execute_result",
          "data": {
            "text/plain": [
              "Index(['id', 'date', 'price', 'bedrooms', 'bathrooms', 'sqft_living',\n",
              "       'sqft_lot', 'floors', 'waterfront', 'view', 'condition', 'grade',\n",
              "       'sqft_above', 'sqft_basement', 'yr_built', 'yr_renovated', 'zipcode',\n",
              "       'lat', 'long', 'sqft_living15', 'sqft_lot15'],\n",
              "      dtype='object')"
            ]
          },
          "metadata": {},
          "execution_count": 8
        }
      ]
    },
    {
      "cell_type": "markdown",
      "source": [
        "# 3) Qual a casa mais cara do portfólio?"
      ],
      "metadata": {
        "id": "MMpEYis_MHnS"
      }
    },
    {
      "cell_type": "markdown",
      "source": [
        "## **Solução**: \n",
        "\n",
        "*   Ordenar as linhas da colun `price` por valor.\n",
        "*   Mostrar apenas as colunas `id` e `price` através de colchetes duplo.\n",
        "*   Resetar o index para melhorar a visualização ao plotar no gráfico.\n",
        "*   Mostrar apenas 5 resultados para agilizar o tempo de computação.\n",
        "*   Passar como parâmetro do `reset_index(drop = True)` para eliminar a coluna `index` criada pelo pandas no reset."
      ],
      "metadata": {
        "id": "XGHMFO3lUuB-"
      }
    },
    {
      "cell_type": "markdown",
      "source": [
        "### **Resposta:** A casa de ID 6762700020 é a mais cara com o valor de: 7,700,000.00"
      ],
      "metadata": {
        "id": "yfMuMqoqc6tn"
      }
    },
    {
      "cell_type": "code",
      "source": [
        "maior_valor = df[['id', 'price']].sort_values('price', ascending = False).reset_index(drop = True).head(5)\n",
        "maior_valor"
      ],
      "metadata": {
        "colab": {
          "base_uri": "https://localhost:8080/",
          "height": 206
        },
        "id": "QJy1Qn1jLkRv",
        "outputId": "269569c4-bfdb-4bd9-caf4-68147269a300"
      },
      "execution_count": 9,
      "outputs": [
        {
          "output_type": "execute_result",
          "data": {
            "text/plain": [
              "           id        price\n",
              "0  6762700020 7,700,000.00\n",
              "1  9808700762 7,062,500.00\n",
              "2  9208900037 6,885,000.00\n",
              "3  2470100110 5,570,000.00\n",
              "4  8907500070 5,350,000.00"
            ],
            "text/html": [
              "\n",
              "  <div id=\"df-9c31fbbc-c2aa-44b3-8f9b-dadd93557bd4\">\n",
              "    <div class=\"colab-df-container\">\n",
              "      <div>\n",
              "<style scoped>\n",
              "    .dataframe tbody tr th:only-of-type {\n",
              "        vertical-align: middle;\n",
              "    }\n",
              "\n",
              "    .dataframe tbody tr th {\n",
              "        vertical-align: top;\n",
              "    }\n",
              "\n",
              "    .dataframe thead th {\n",
              "        text-align: right;\n",
              "    }\n",
              "</style>\n",
              "<table border=\"1\" class=\"dataframe\">\n",
              "  <thead>\n",
              "    <tr style=\"text-align: right;\">\n",
              "      <th></th>\n",
              "      <th>id</th>\n",
              "      <th>price</th>\n",
              "    </tr>\n",
              "  </thead>\n",
              "  <tbody>\n",
              "    <tr>\n",
              "      <th>0</th>\n",
              "      <td>6762700020</td>\n",
              "      <td>7,700,000.00</td>\n",
              "    </tr>\n",
              "    <tr>\n",
              "      <th>1</th>\n",
              "      <td>9808700762</td>\n",
              "      <td>7,062,500.00</td>\n",
              "    </tr>\n",
              "    <tr>\n",
              "      <th>2</th>\n",
              "      <td>9208900037</td>\n",
              "      <td>6,885,000.00</td>\n",
              "    </tr>\n",
              "    <tr>\n",
              "      <th>3</th>\n",
              "      <td>2470100110</td>\n",
              "      <td>5,570,000.00</td>\n",
              "    </tr>\n",
              "    <tr>\n",
              "      <th>4</th>\n",
              "      <td>8907500070</td>\n",
              "      <td>5,350,000.00</td>\n",
              "    </tr>\n",
              "  </tbody>\n",
              "</table>\n",
              "</div>\n",
              "      <button class=\"colab-df-convert\" onclick=\"convertToInteractive('df-9c31fbbc-c2aa-44b3-8f9b-dadd93557bd4')\"\n",
              "              title=\"Convert this dataframe to an interactive table.\"\n",
              "              style=\"display:none;\">\n",
              "        \n",
              "  <svg xmlns=\"http://www.w3.org/2000/svg\" height=\"24px\"viewBox=\"0 0 24 24\"\n",
              "       width=\"24px\">\n",
              "    <path d=\"M0 0h24v24H0V0z\" fill=\"none\"/>\n",
              "    <path d=\"M18.56 5.44l.94 2.06.94-2.06 2.06-.94-2.06-.94-.94-2.06-.94 2.06-2.06.94zm-11 1L8.5 8.5l.94-2.06 2.06-.94-2.06-.94L8.5 2.5l-.94 2.06-2.06.94zm10 10l.94 2.06.94-2.06 2.06-.94-2.06-.94-.94-2.06-.94 2.06-2.06.94z\"/><path d=\"M17.41 7.96l-1.37-1.37c-.4-.4-.92-.59-1.43-.59-.52 0-1.04.2-1.43.59L10.3 9.45l-7.72 7.72c-.78.78-.78 2.05 0 2.83L4 21.41c.39.39.9.59 1.41.59.51 0 1.02-.2 1.41-.59l7.78-7.78 2.81-2.81c.8-.78.8-2.07 0-2.86zM5.41 20L4 18.59l7.72-7.72 1.47 1.35L5.41 20z\"/>\n",
              "  </svg>\n",
              "      </button>\n",
              "      \n",
              "  <style>\n",
              "    .colab-df-container {\n",
              "      display:flex;\n",
              "      flex-wrap:wrap;\n",
              "      gap: 12px;\n",
              "    }\n",
              "\n",
              "    .colab-df-convert {\n",
              "      background-color: #E8F0FE;\n",
              "      border: none;\n",
              "      border-radius: 50%;\n",
              "      cursor: pointer;\n",
              "      display: none;\n",
              "      fill: #1967D2;\n",
              "      height: 32px;\n",
              "      padding: 0 0 0 0;\n",
              "      width: 32px;\n",
              "    }\n",
              "\n",
              "    .colab-df-convert:hover {\n",
              "      background-color: #E2EBFA;\n",
              "      box-shadow: 0px 1px 2px rgba(60, 64, 67, 0.3), 0px 1px 3px 1px rgba(60, 64, 67, 0.15);\n",
              "      fill: #174EA6;\n",
              "    }\n",
              "\n",
              "    [theme=dark] .colab-df-convert {\n",
              "      background-color: #3B4455;\n",
              "      fill: #D2E3FC;\n",
              "    }\n",
              "\n",
              "    [theme=dark] .colab-df-convert:hover {\n",
              "      background-color: #434B5C;\n",
              "      box-shadow: 0px 1px 3px 1px rgba(0, 0, 0, 0.15);\n",
              "      filter: drop-shadow(0px 1px 2px rgba(0, 0, 0, 0.3));\n",
              "      fill: #FFFFFF;\n",
              "    }\n",
              "  </style>\n",
              "\n",
              "      <script>\n",
              "        const buttonEl =\n",
              "          document.querySelector('#df-9c31fbbc-c2aa-44b3-8f9b-dadd93557bd4 button.colab-df-convert');\n",
              "        buttonEl.style.display =\n",
              "          google.colab.kernel.accessAllowed ? 'block' : 'none';\n",
              "\n",
              "        async function convertToInteractive(key) {\n",
              "          const element = document.querySelector('#df-9c31fbbc-c2aa-44b3-8f9b-dadd93557bd4');\n",
              "          const dataTable =\n",
              "            await google.colab.kernel.invokeFunction('convertToInteractive',\n",
              "                                                     [key], {});\n",
              "          if (!dataTable) return;\n",
              "\n",
              "          const docLinkHtml = 'Like what you see? Visit the ' +\n",
              "            '<a target=\"_blank\" href=https://colab.research.google.com/notebooks/data_table.ipynb>data table notebook</a>'\n",
              "            + ' to learn more about interactive tables.';\n",
              "          element.innerHTML = '';\n",
              "          dataTable['output_type'] = 'display_data';\n",
              "          await google.colab.output.renderOutput(dataTable, element);\n",
              "          const docLink = document.createElement('div');\n",
              "          docLink.innerHTML = docLinkHtml;\n",
              "          element.appendChild(docLink);\n",
              "        }\n",
              "      </script>\n",
              "    </div>\n",
              "  </div>\n",
              "  "
            ]
          },
          "metadata": {},
          "execution_count": 9
        }
      ]
    },
    {
      "cell_type": "code",
      "source": [
        "sns.set(rc={'figure.figsize': (11.7, 8.27)})\n",
        "f,ax = plt.subplots()\n",
        "ax.ticklabel_format(style='plain', axis='both')\n",
        "sns.barplot(y=\"price\", x=maior_valor.index,palette = 'mako',data=maior_valor)\n",
        "\n",
        "#f,ax = plt.subplots()\n",
        "#ax.ticklabel_format(style='plain', axis='both') - utilizei para mostrar os valores nas linhas do eixo y"
      ],
      "metadata": {
        "colab": {
          "base_uri": "https://localhost:8080/",
          "height": 517
        },
        "id": "icWkHT7yMitg",
        "outputId": "09b79496-1e44-4fb5-c783-6de7c9a995d6"
      },
      "execution_count": 10,
      "outputs": [
        {
          "output_type": "execute_result",
          "data": {
            "text/plain": [
              "<matplotlib.axes._subplots.AxesSubplot at 0x7f7eb48a1290>"
            ]
          },
          "metadata": {},
          "execution_count": 10
        },
        {
          "output_type": "display_data",
          "data": {
            "text/plain": [
              "<Figure size 842.4x595.44 with 1 Axes>"
            ],
            "image/png": "[encoded data removed]"
          },
          "metadata": {}
        }
      ]
    },
    {
      "cell_type": "markdown",
      "source": [
        "## 4) Qual a casa com o maior número de quartos?"
      ],
      "metadata": {
        "id": "tGTDZj8sOud-"
      }
    },
    {
      "cell_type": "markdown",
      "source": [
        "## **Solução**: Organizar as linhas pela coluna <bedrooms> - número de quartos"
      ],
      "metadata": {
        "id": "jZ633QT2WSNP"
      }
    },
    {
      "cell_type": "markdown",
      "source": [
        "### **Resposta:** A casa de ID 2402100895 possui 33 quartos."
      ],
      "metadata": {
        "id": "XrKo2LGodMwA"
      }
    },
    {
      "cell_type": "code",
      "source": [
        "df[['id','bedrooms']].sort_values('bedrooms', ascending = False).head(3)"
      ],
      "metadata": {
        "id": "S_OUO3YTOt0R",
        "colab": {
          "base_uri": "https://localhost:8080/",
          "height": 143
        },
        "outputId": "f01ea711-950c-46ee-8a96-c6ac56db91d1"
      },
      "execution_count": 11,
      "outputs": [
        {
          "output_type": "execute_result",
          "data": {
            "text/plain": [
              "               id  bedrooms\n",
              "15870  2402100895        33\n",
              "8757   1773100755        11\n",
              "15161  5566100170        10"
            ],
            "text/html": [
              "\n",
              "  <div id=\"df-491c757f-80c3-48f4-8c8c-a01300f33193\">\n",
              "    <div class=\"colab-df-container\">\n",
              "      <div>\n",
              "<style scoped>\n",
              "    .dataframe tbody tr th:only-of-type {\n",
              "        vertical-align: middle;\n",
              "    }\n",
              "\n",
              "    .dataframe tbody tr th {\n",
              "        vertical-align: top;\n",
              "    }\n",
              "\n",
              "    .dataframe thead th {\n",
              "        text-align: right;\n",
              "    }\n",
              "</style>\n",
              "<table border=\"1\" class=\"dataframe\">\n",
              "  <thead>\n",
              "    <tr style=\"text-align: right;\">\n",
              "      <th></th>\n",
              "      <th>id</th>\n",
              "      <th>bedrooms</th>\n",
              "    </tr>\n",
              "  </thead>\n",
              "  <tbody>\n",
              "    <tr>\n",
              "      <th>15870</th>\n",
              "      <td>2402100895</td>\n",
              "      <td>33</td>\n",
              "    </tr>\n",
              "    <tr>\n",
              "      <th>8757</th>\n",
              "      <td>1773100755</td>\n",
              "      <td>11</td>\n",
              "    </tr>\n",
              "    <tr>\n",
              "      <th>15161</th>\n",
              "      <td>5566100170</td>\n",
              "      <td>10</td>\n",
              "    </tr>\n",
              "  </tbody>\n",
              "</table>\n",
              "</div>\n",
              "      <button class=\"colab-df-convert\" onclick=\"convertToInteractive('df-491c757f-80c3-48f4-8c8c-a01300f33193')\"\n",
              "              title=\"Convert this dataframe to an interactive table.\"\n",
              "              style=\"display:none;\">\n",
              "        \n",
              "  <svg xmlns=\"http://www.w3.org/2000/svg\" height=\"24px\"viewBox=\"0 0 24 24\"\n",
              "       width=\"24px\">\n",
              "    <path d=\"M0 0h24v24H0V0z\" fill=\"none\"/>\n",
              "    <path d=\"M18.56 5.44l.94 2.06.94-2.06 2.06-.94-2.06-.94-.94-2.06-.94 2.06-2.06.94zm-11 1L8.5 8.5l.94-2.06 2.06-.94-2.06-.94L8.5 2.5l-.94 2.06-2.06.94zm10 10l.94 2.06.94-2.06 2.06-.94-2.06-.94-.94-2.06-.94 2.06-2.06.94z\"/><path d=\"M17.41 7.96l-1.37-1.37c-.4-.4-.92-.59-1.43-.59-.52 0-1.04.2-1.43.59L10.3 9.45l-7.72 7.72c-.78.78-.78 2.05 0 2.83L4 21.41c.39.39.9.59 1.41.59.51 0 1.02-.2 1.41-.59l7.78-7.78 2.81-2.81c.8-.78.8-2.07 0-2.86zM5.41 20L4 18.59l7.72-7.72 1.47 1.35L5.41 20z\"/>\n",
              "  </svg>\n",
              "      </button>\n",
              "      \n",
              "  <style>\n",
              "    .colab-df-container {\n",
              "      display:flex;\n",
              "      flex-wrap:wrap;\n",
              "      gap: 12px;\n",
              "    }\n",
              "\n",
              "    .colab-df-convert {\n",
              "      background-color: #E8F0FE;\n",
              "      border: none;\n",
              "      border-radius: 50%;\n",
              "      cursor: pointer;\n",
              "      display: none;\n",
              "      fill: #1967D2;\n",
              "      height: 32px;\n",
              "      padding: 0 0 0 0;\n",
              "      width: 32px;\n",
              "    }\n",
              "\n",
              "    .colab-df-convert:hover {\n",
              "      background-color: #E2EBFA;\n",
              "      box-shadow: 0px 1px 2px rgba(60, 64, 67, 0.3), 0px 1px 3px 1px rgba(60, 64, 67, 0.15);\n",
              "      fill: #174EA6;\n",
              "    }\n",
              "\n",
              "    [theme=dark] .colab-df-convert {\n",
              "      background-color: #3B4455;\n",
              "      fill: #D2E3FC;\n",
              "    }\n",
              "\n",
              "    [theme=dark] .colab-df-convert:hover {\n",
              "      background-color: #434B5C;\n",
              "      box-shadow: 0px 1px 3px 1px rgba(0, 0, 0, 0.15);\n",
              "      filter: drop-shadow(0px 1px 2px rgba(0, 0, 0, 0.3));\n",
              "      fill: #FFFFFF;\n",
              "    }\n",
              "  </style>\n",
              "\n",
              "      <script>\n",
              "        const buttonEl =\n",
              "          document.querySelector('#df-491c757f-80c3-48f4-8c8c-a01300f33193 button.colab-df-convert');\n",
              "        buttonEl.style.display =\n",
              "          google.colab.kernel.accessAllowed ? 'block' : 'none';\n",
              "\n",
              "        async function convertToInteractive(key) {\n",
              "          const element = document.querySelector('#df-491c757f-80c3-48f4-8c8c-a01300f33193');\n",
              "          const dataTable =\n",
              "            await google.colab.kernel.invokeFunction('convertToInteractive',\n",
              "                                                     [key], {});\n",
              "          if (!dataTable) return;\n",
              "\n",
              "          const docLinkHtml = 'Like what you see? Visit the ' +\n",
              "            '<a target=\"_blank\" href=https://colab.research.google.com/notebooks/data_table.ipynb>data table notebook</a>'\n",
              "            + ' to learn more about interactive tables.';\n",
              "          element.innerHTML = '';\n",
              "          dataTable['output_type'] = 'display_data';\n",
              "          await google.colab.output.renderOutput(dataTable, element);\n",
              "          const docLink = document.createElement('div');\n",
              "          docLink.innerHTML = docLinkHtml;\n",
              "          element.appendChild(docLink);\n",
              "        }\n",
              "      </script>\n",
              "    </div>\n",
              "  </div>\n",
              "  "
            ]
          },
          "metadata": {},
          "execution_count": 11
        }
      ]
    },
    {
      "cell_type": "markdown",
      "source": [
        "### **Informação Adicional:** Casas agrupadas pelo quantidade de quartos.\n",
        "O campo ID deve ser lido como \"Quantidade de casas que apresentam X Quartos\""
      ],
      "metadata": {
        "id": "PoXmkx9QclQO"
      }
    },
    {
      "cell_type": "code",
      "source": [
        "quartos_disponíveis = df[['id','bedrooms']].groupby('bedrooms').count().sort_values(by= 'bedrooms',ascending = False)\n",
        "quartos_disponíveis "
      ],
      "metadata": {
        "colab": {
          "base_uri": "https://localhost:8080/",
          "height": 488
        },
        "id": "eyWjD9PxWc0X",
        "outputId": "2dff11b5-0c41-4486-c9cb-e241946d467d"
      },
      "execution_count": 12,
      "outputs": [
        {
          "output_type": "execute_result",
          "data": {
            "text/plain": [
              "            id\n",
              "bedrooms      \n",
              "33           1\n",
              "11           1\n",
              "10           3\n",
              "9            6\n",
              "8           13\n",
              "7           38\n",
              "6          272\n",
              "5         1601\n",
              "4         6882\n",
              "3         9824\n",
              "2         2760\n",
              "1          199\n",
              "0           13"
            ],
            "text/html": [
              "\n",
              "  <div id=\"df-fea9e42d-028b-4126-80cf-3a70072d37c4\">\n",
              "    <div class=\"colab-df-container\">\n",
              "      <div>\n",
              "<style scoped>\n",
              "    .dataframe tbody tr th:only-of-type {\n",
              "        vertical-align: middle;\n",
              "    }\n",
              "\n",
              "    .dataframe tbody tr th {\n",
              "        vertical-align: top;\n",
              "    }\n",
              "\n",
              "    .dataframe thead th {\n",
              "        text-align: right;\n",
              "    }\n",
              "</style>\n",
              "<table border=\"1\" class=\"dataframe\">\n",
              "  <thead>\n",
              "    <tr style=\"text-align: right;\">\n",
              "      <th></th>\n",
              "      <th>id</th>\n",
              "    </tr>\n",
              "    <tr>\n",
              "      <th>bedrooms</th>\n",
              "      <th></th>\n",
              "    </tr>\n",
              "  </thead>\n",
              "  <tbody>\n",
              "    <tr>\n",
              "      <th>33</th>\n",
              "      <td>1</td>\n",
              "    </tr>\n",
              "    <tr>\n",
              "      <th>11</th>\n",
              "      <td>1</td>\n",
              "    </tr>\n",
              "    <tr>\n",
              "      <th>10</th>\n",
              "      <td>3</td>\n",
              "    </tr>\n",
              "    <tr>\n",
              "      <th>9</th>\n",
              "      <td>6</td>\n",
              "    </tr>\n",
              "    <tr>\n",
              "      <th>8</th>\n",
              "      <td>13</td>\n",
              "    </tr>\n",
              "    <tr>\n",
              "      <th>7</th>\n",
              "      <td>38</td>\n",
              "    </tr>\n",
              "    <tr>\n",
              "      <th>6</th>\n",
              "      <td>272</td>\n",
              "    </tr>\n",
              "    <tr>\n",
              "      <th>5</th>\n",
              "      <td>1601</td>\n",
              "    </tr>\n",
              "    <tr>\n",
              "      <th>4</th>\n",
              "      <td>6882</td>\n",
              "    </tr>\n",
              "    <tr>\n",
              "      <th>3</th>\n",
              "      <td>9824</td>\n",
              "    </tr>\n",
              "    <tr>\n",
              "      <th>2</th>\n",
              "      <td>2760</td>\n",
              "    </tr>\n",
              "    <tr>\n",
              "      <th>1</th>\n",
              "      <td>199</td>\n",
              "    </tr>\n",
              "    <tr>\n",
              "      <th>0</th>\n",
              "      <td>13</td>\n",
              "    </tr>\n",
              "  </tbody>\n",
              "</table>\n",
              "</div>\n",
              "      <button class=\"colab-df-convert\" onclick=\"convertToInteractive('df-fea9e42d-028b-4126-80cf-3a70072d37c4')\"\n",
              "              title=\"Convert this dataframe to an interactive table.\"\n",
              "              style=\"display:none;\">\n",
              "        \n",
              "  <svg xmlns=\"http://www.w3.org/2000/svg\" height=\"24px\"viewBox=\"0 0 24 24\"\n",
              "       width=\"24px\">\n",
              "    <path d=\"M0 0h24v24H0V0z\" fill=\"none\"/>\n",
              "    <path d=\"M18.56 5.44l.94 2.06.94-2.06 2.06-.94-2.06-.94-.94-2.06-.94 2.06-2.06.94zm-11 1L8.5 8.5l.94-2.06 2.06-.94-2.06-.94L8.5 2.5l-.94 2.06-2.06.94zm10 10l.94 2.06.94-2.06 2.06-.94-2.06-.94-.94-2.06-.94 2.06-2.06.94z\"/><path d=\"M17.41 7.96l-1.37-1.37c-.4-.4-.92-.59-1.43-.59-.52 0-1.04.2-1.43.59L10.3 9.45l-7.72 7.72c-.78.78-.78 2.05 0 2.83L4 21.41c.39.39.9.59 1.41.59.51 0 1.02-.2 1.41-.59l7.78-7.78 2.81-2.81c.8-.78.8-2.07 0-2.86zM5.41 20L4 18.59l7.72-7.72 1.47 1.35L5.41 20z\"/>\n",
              "  </svg>\n",
              "      </button>\n",
              "      \n",
              "  <style>\n",
              "    .colab-df-container {\n",
              "      display:flex;\n",
              "      flex-wrap:wrap;\n",
              "      gap: 12px;\n",
              "    }\n",
              "\n",
              "    .colab-df-convert {\n",
              "      background-color: #E8F0FE;\n",
              "      border: none;\n",
              "      border-radius: 50%;\n",
              "      cursor: pointer;\n",
              "      display: none;\n",
              "      fill: #1967D2;\n",
              "      height: 32px;\n",
              "      padding: 0 0 0 0;\n",
              "      width: 32px;\n",
              "    }\n",
              "\n",
              "    .colab-df-convert:hover {\n",
              "      background-color: #E2EBFA;\n",
              "      box-shadow: 0px 1px 2px rgba(60, 64, 67, 0.3), 0px 1px 3px 1px rgba(60, 64, 67, 0.15);\n",
              "      fill: #174EA6;\n",
              "    }\n",
              "\n",
              "    [theme=dark] .colab-df-convert {\n",
              "      background-color: #3B4455;\n",
              "      fill: #D2E3FC;\n",
              "    }\n",
              "\n",
              "    [theme=dark] .colab-df-convert:hover {\n",
              "      background-color: #434B5C;\n",
              "      box-shadow: 0px 1px 3px 1px rgba(0, 0, 0, 0.15);\n",
              "      filter: drop-shadow(0px 1px 2px rgba(0, 0, 0, 0.3));\n",
              "      fill: #FFFFFF;\n",
              "    }\n",
              "  </style>\n",
              "\n",
              "      <script>\n",
              "        const buttonEl =\n",
              "          document.querySelector('#df-fea9e42d-028b-4126-80cf-3a70072d37c4 button.colab-df-convert');\n",
              "        buttonEl.style.display =\n",
              "          google.colab.kernel.accessAllowed ? 'block' : 'none';\n",
              "\n",
              "        async function convertToInteractive(key) {\n",
              "          const element = document.querySelector('#df-fea9e42d-028b-4126-80cf-3a70072d37c4');\n",
              "          const dataTable =\n",
              "            await google.colab.kernel.invokeFunction('convertToInteractive',\n",
              "                                                     [key], {});\n",
              "          if (!dataTable) return;\n",
              "\n",
              "          const docLinkHtml = 'Like what you see? Visit the ' +\n",
              "            '<a target=\"_blank\" href=https://colab.research.google.com/notebooks/data_table.ipynb>data table notebook</a>'\n",
              "            + ' to learn more about interactive tables.';\n",
              "          element.innerHTML = '';\n",
              "          dataTable['output_type'] = 'display_data';\n",
              "          await google.colab.output.renderOutput(dataTable, element);\n",
              "          const docLink = document.createElement('div');\n",
              "          docLink.innerHTML = docLinkHtml;\n",
              "          element.appendChild(docLink);\n",
              "        }\n",
              "      </script>\n",
              "    </div>\n",
              "  </div>\n",
              "  "
            ]
          },
          "metadata": {},
          "execution_count": 12
        }
      ]
    },
    {
      "cell_type": "code",
      "source": [
        "sns.barplot(y=quartos_disponíveis.index, x=\"id\", palette = 'mako',data=quartos_disponíveis)"
      ],
      "metadata": {
        "colab": {
          "base_uri": "https://localhost:8080/",
          "height": 534
        },
        "id": "JZdRCgKEIHZT",
        "outputId": "b36a9b4d-dd65-4a61-f9a3-2a1f80c97b1d"
      },
      "execution_count": 13,
      "outputs": [
        {
          "output_type": "execute_result",
          "data": {
            "text/plain": [
              "<matplotlib.axes._subplots.AxesSubplot at 0x7f7eb426b1d0>"
            ]
          },
          "metadata": {},
          "execution_count": 13
        },
        {
          "output_type": "display_data",
          "data": {
            "text/plain": [
              "<Figure size 842.4x595.44 with 1 Axes>"
            ],
            "image/png": "[encoded data removed]"
          },
          "metadata": {}
        }
      ]
    },
    {
      "cell_type": "markdown",
      "source": [
        "# 5) Qual a soma total de quartos do portfólio?"
      ],
      "metadata": {
        "id": "hv6WCkGv0X3e"
      }
    },
    {
      "cell_type": "markdown",
      "source": [
        "### **Resposta:** O portfólio possui 72.854 quartos."
      ],
      "metadata": {
        "id": "cc-6ST--0xEi"
      }
    },
    {
      "cell_type": "code",
      "source": [
        "df.bedrooms.sum()"
      ],
      "metadata": {
        "colab": {
          "base_uri": "https://localhost:8080/"
        },
        "id": "G2-y0W-E0n-6",
        "outputId": "a362278a-b135-49b7-f67d-82176a608a0b"
      },
      "execution_count": 14,
      "outputs": [
        {
          "output_type": "execute_result",
          "data": {
            "text/plain": [
              "72854"
            ]
          },
          "metadata": {},
          "execution_count": 14
        }
      ]
    },
    {
      "cell_type": "markdown",
      "source": [
        "# 6) Quantas casas possuem 2 banheiros?"
      ],
      "metadata": {
        "id": "xHcPcQWB04DK"
      }
    },
    {
      "cell_type": "markdown",
      "source": [
        "## **Solução:** Construição de uma query e contagem do resultado."
      ],
      "metadata": {
        "id": "-hFMOT3J1DTg"
      }
    },
    {
      "cell_type": "markdown",
      "source": [
        "### **Resposta**: 1930 casas possuem 2 banheiros.\n",
        "Pode ser feito: len(df.loc[df['bathroom'] == 2,['id'],['bathrooms']])"
      ],
      "metadata": {
        "id": "HSboxSUy3X7q"
      }
    },
    {
      "cell_type": "code",
      "source": [
        "df.query('bathrooms == 2').count()['id']"
      ],
      "metadata": {
        "colab": {
          "base_uri": "https://localhost:8080/"
        },
        "id": "DOET7zy02tsa",
        "outputId": "77e7cd5d-206b-4132-d63e-59f780a1828e"
      },
      "execution_count": 50,
      "outputs": [
        {
          "output_type": "execute_result",
          "data": {
            "text/plain": [
              "1930"
            ]
          },
          "metadata": {},
          "execution_count": 50
        }
      ]
    },
    {
      "cell_type": "markdown",
      "source": [
        "# 7) Qual o preço médio de todas as casas?"
      ],
      "metadata": {
        "id": "V_7QjwP73lQC"
      }
    },
    {
      "cell_type": "markdown",
      "source": [
        "## **Solução:** Pode ser feito com describe, com a média da coluna ou do Df."
      ],
      "metadata": {
        "id": "A_6R9ag-35Mr"
      }
    },
    {
      "cell_type": "markdown",
      "source": [
        "### **Resposta:** O preço médio das casas é de US$ 540,088.14 "
      ],
      "metadata": {
        "id": "62Ri2ZIL4MmK"
      }
    },
    {
      "cell_type": "code",
      "source": [
        "df.mean()"
      ],
      "metadata": {
        "colab": {
          "base_uri": "https://localhost:8080/"
        },
        "id": "yiIdxMps3saS",
        "outputId": "74a01c68-f808-4c29-8489-244b9a8e45d7"
      },
      "execution_count": 16,
      "outputs": [
        {
          "output_type": "stream",
          "name": "stderr",
          "text": [
            "/usr/local/lib/python3.7/dist-packages/ipykernel_launcher.py:1: FutureWarning: DataFrame.mean and DataFrame.median with numeric_only=None will include datetime64 and datetime64tz columns in a future version.\n",
            "  \"\"\"Entry point for launching an IPython kernel.\n"
          ]
        },
        {
          "output_type": "execute_result",
          "data": {
            "text/plain": [
              "id              4,580,301,520.86\n",
              "price                 540,088.14\n",
              "bedrooms                    3.37\n",
              "bathrooms                   2.11\n",
              "sqft_living             2,079.90\n",
              "sqft_lot               15,106.97\n",
              "floors                      1.49\n",
              "waterfront                  0.01\n",
              "view                        0.23\n",
              "condition                   3.41\n",
              "grade                       7.66\n",
              "sqft_above              1,788.39\n",
              "sqft_basement             291.51\n",
              "yr_built                1,971.01\n",
              "yr_renovated               84.40\n",
              "zipcode                98,077.94\n",
              "lat                        47.56\n",
              "long                     -122.21\n",
              "sqft_living15           1,986.55\n",
              "sqft_lot15             12,768.46\n",
              "dtype: float64"
            ]
          },
          "metadata": {},
          "execution_count": 16
        }
      ]
    },
    {
      "cell_type": "markdown",
      "source": [
        "# 8) Qual o preço médio de casas com 2 banheiros?"
      ],
      "metadata": {
        "id": "xv5Y1kxT4ebz"
      }
    },
    {
      "cell_type": "markdown",
      "source": [
        "### **Resposta:** O preço médio é USS 457,889.72"
      ],
      "metadata": {
        "id": "BP9kqW5z4mMh"
      }
    },
    {
      "cell_type": "code",
      "source": [
        "df.query('bathrooms == 2').mean()"
      ],
      "metadata": {
        "colab": {
          "base_uri": "https://localhost:8080/"
        },
        "id": "KtQ-ot_A4b1w",
        "outputId": "54e291f8-f291-4a04-b40d-b5cb9fe2d06c"
      },
      "execution_count": 17,
      "outputs": [
        {
          "output_type": "stream",
          "name": "stderr",
          "text": [
            "/usr/local/lib/python3.7/dist-packages/ipykernel_launcher.py:1: FutureWarning: DataFrame.mean and DataFrame.median with numeric_only=None will include datetime64 and datetime64tz columns in a future version.\n",
            "  \"\"\"Entry point for launching an IPython kernel.\n"
          ]
        },
        {
          "output_type": "execute_result",
          "data": {
            "text/plain": [
              "id              4,586,917,121.70\n",
              "price                 457,889.72\n",
              "bedrooms                    3.31\n",
              "bathrooms                   2.00\n",
              "sqft_living             1,796.67\n",
              "sqft_lot               14,227.94\n",
              "floors                      1.29\n",
              "waterfront                  0.00\n",
              "view                        0.16\n",
              "condition                   3.58\n",
              "grade                       7.24\n",
              "sqft_above              1,491.03\n",
              "sqft_basement             305.64\n",
              "yr_built                1,961.25\n",
              "yr_renovated              145.69\n",
              "zipcode                98,083.70\n",
              "lat                        47.56\n",
              "long                     -122.23\n",
              "sqft_living15           1,736.83\n",
              "sqft_lot15             12,044.89\n",
              "dtype: float64"
            ]
          },
          "metadata": {},
          "execution_count": 17
        }
      ]
    },
    {
      "cell_type": "markdown",
      "source": [
        "# 9) Qual o preço mínimo entre as casas com 3 quartos."
      ],
      "metadata": {
        "id": "Gfs0f77W5D0s"
      }
    },
    {
      "cell_type": "markdown",
      "source": [
        "### **Resposta:** O menor valor é de US$ 82,000.00"
      ],
      "metadata": {
        "id": "UDJSX-v75Rdm"
      }
    },
    {
      "cell_type": "code",
      "source": [
        "df.query('bedrooms == 3').min()"
      ],
      "metadata": {
        "colab": {
          "base_uri": "https://localhost:8080/"
        },
        "id": "BN78TVH05O2y",
        "outputId": "9989684a-a0fa-419f-9300-d72cf4247ca0"
      },
      "execution_count": 18,
      "outputs": [
        {
          "output_type": "execute_result",
          "data": {
            "text/plain": [
              "id                           1200021\n",
              "date             2014-05-02 00:00:00\n",
              "price                      82,000.00\n",
              "bedrooms                           3\n",
              "bathrooms                       0.75\n",
              "sqft_living                      490\n",
              "sqft_lot                         572\n",
              "floors                          1.00\n",
              "waterfront                         0\n",
              "view                               0\n",
              "condition                          1\n",
              "grade                              4\n",
              "sqft_above                       490\n",
              "sqft_basement                      0\n",
              "yr_built                        1900\n",
              "yr_renovated                       0\n",
              "zipcode                        98001\n",
              "lat                            47.16\n",
              "long                         -122.52\n",
              "sqft_living15                    399\n",
              "sqft_lot15                       651\n",
              "dtype: object"
            ]
          },
          "metadata": {},
          "execution_count": 18
        }
      ]
    },
    {
      "cell_type": "markdown",
      "source": [
        "# 10) Quantas casas possuem mais de 300 metros quadrados de sala de estar."
      ],
      "metadata": {
        "id": "lRfgl3lQ5zTL"
      }
    },
    {
      "cell_type": "markdown",
      "source": [
        "**Solução:** É necessário fazer a conversão de squarefeet para m².\n",
        "*   1 sqft = 0.093 m²\n",
        "*   criar uma coluna 'm2' "
      ],
      "metadata": {
        "id": "dkEjC4xVFuS9"
      }
    },
    {
      "cell_type": "markdown",
      "source": [
        "### **Resposta:**  21612 casas são maiores que 300. Apenas a casa de ID 3980300371 tem sala de estar menor que 300 metros. \n",
        "* Pode ser feito: len(df.loc[df['m2']> 300])"
      ],
      "metadata": {
        "id": "1N7LMcTs6qLV"
      }
    },
    {
      "cell_type": "code",
      "source": [
        "df['m2'] = df['sqft_living'] * 0.093"
      ],
      "metadata": {
        "id": "OM2C1HJj6IwN"
      },
      "execution_count": 19,
      "outputs": []
    },
    {
      "cell_type": "code",
      "source": [
        "len(df.query('m2 > 300'))"
      ],
      "metadata": {
        "colab": {
          "base_uri": "https://localhost:8080/"
        },
        "id": "DHhyNHLoGTcP",
        "outputId": "6a40935b-8699-401b-887d-a716b20ebd32"
      },
      "execution_count": 20,
      "outputs": [
        {
          "output_type": "execute_result",
          "data": {
            "text/plain": [
              "2258"
            ]
          },
          "metadata": {},
          "execution_count": 20
        }
      ]
    },
    {
      "cell_type": "markdown",
      "source": [
        "# 11) Quantas casas tem mais de 2 andares?"
      ],
      "metadata": {
        "id": "EVH64PM17vny"
      }
    },
    {
      "cell_type": "markdown",
      "source": [
        "### **Resposta:** 782 casas."
      ],
      "metadata": {
        "id": "zUGYLrOz7_ib"
      }
    },
    {
      "cell_type": "code",
      "source": [
        "df.query('floors > 2').count()"
      ],
      "metadata": {
        "colab": {
          "base_uri": "https://localhost:8080/"
        },
        "id": "Ga61FJ2I7ybE",
        "outputId": "61602d40-532c-41d5-c667-b585afadc28d"
      },
      "execution_count": 21,
      "outputs": [
        {
          "output_type": "execute_result",
          "data": {
            "text/plain": [
              "id               782\n",
              "date             782\n",
              "price            782\n",
              "bedrooms         782\n",
              "bathrooms        782\n",
              "sqft_living      782\n",
              "sqft_lot         782\n",
              "floors           782\n",
              "waterfront       782\n",
              "view             782\n",
              "condition        782\n",
              "grade            782\n",
              "sqft_above       782\n",
              "sqft_basement    782\n",
              "yr_built         782\n",
              "yr_renovated     782\n",
              "zipcode          782\n",
              "lat              782\n",
              "long             782\n",
              "sqft_living15    782\n",
              "sqft_lot15       782\n",
              "m2               782\n",
              "dtype: int64"
            ]
          },
          "metadata": {},
          "execution_count": 21
        }
      ]
    },
    {
      "cell_type": "markdown",
      "source": [
        "# 12) Quantas casas tem vistas para o mar?"
      ],
      "metadata": {
        "id": "gzniZpgx8D2B"
      }
    },
    {
      "cell_type": "markdown",
      "source": [
        "### **Resposta:** 163 casas com vista para o mar."
      ],
      "metadata": {
        "id": "95Qh0gg88pru"
      }
    },
    {
      "cell_type": "code",
      "source": [
        "df.query('waterfront == 1').count()"
      ],
      "metadata": {
        "colab": {
          "base_uri": "https://localhost:8080/"
        },
        "id": "BxKPw0ny7vSu",
        "outputId": "1b17c899-d245-4fc1-dc07-7f341dfe779c"
      },
      "execution_count": 22,
      "outputs": [
        {
          "output_type": "execute_result",
          "data": {
            "text/plain": [
              "id               163\n",
              "date             163\n",
              "price            163\n",
              "bedrooms         163\n",
              "bathrooms        163\n",
              "sqft_living      163\n",
              "sqft_lot         163\n",
              "floors           163\n",
              "waterfront       163\n",
              "view             163\n",
              "condition        163\n",
              "grade            163\n",
              "sqft_above       163\n",
              "sqft_basement    163\n",
              "yr_built         163\n",
              "yr_renovated     163\n",
              "zipcode          163\n",
              "lat              163\n",
              "long             163\n",
              "sqft_living15    163\n",
              "sqft_lot15       163\n",
              "m2               163\n",
              "dtype: int64"
            ]
          },
          "metadata": {},
          "execution_count": 22
        }
      ]
    },
    {
      "cell_type": "markdown",
      "source": [
        "# 13) Das casas com vista para o mar, quantas tem 3 quartos? "
      ],
      "metadata": {
        "id": "ZwWNLE6I8tV6"
      }
    },
    {
      "cell_type": "markdown",
      "source": [
        "### **Resposta:** 64 casas com vista para o mar e 03 quartos."
      ],
      "metadata": {
        "id": "jSaBIe4x8-Ft"
      }
    },
    {
      "cell_type": "code",
      "source": [
        "df.query('waterfront == 1 & bedrooms == 3').count()['id']"
      ],
      "metadata": {
        "colab": {
          "base_uri": "https://localhost:8080/"
        },
        "id": "bKNy2vwJ8uRu",
        "outputId": "8293c1f1-76f7-4fac-9051-5bccd1c2817f"
      },
      "execution_count": 54,
      "outputs": [
        {
          "output_type": "execute_result",
          "data": {
            "text/plain": [
              "64"
            ]
          },
          "metadata": {},
          "execution_count": 54
        }
      ]
    },
    {
      "cell_type": "markdown",
      "source": [
        "# 14) Das casas com mais de 300 m² de sala de estar, quantas tem mais de 2 banheiros?"
      ],
      "metadata": {
        "id": "nmWfUylE7W77"
      }
    },
    {
      "cell_type": "markdown",
      "source": [
        "### **Resposta:** 2.201 casas."
      ],
      "metadata": {
        "id": "2w8JAnzp7kzT"
      }
    },
    {
      "cell_type": "code",
      "source": [
        "df.query('m2 >= 300 & bathrooms > 2').count()['id']"
      ],
      "metadata": {
        "colab": {
          "base_uri": "https://localhost:8080/"
        },
        "id": "SZiQdX5-6_sK",
        "outputId": "b43edbce-4b22-402d-9aac-99e4fb5a1ca3"
      },
      "execution_count": 53,
      "outputs": [
        {
          "output_type": "execute_result",
          "data": {
            "text/plain": [
              "2201"
            ]
          },
          "metadata": {},
          "execution_count": 53
        }
      ]
    },
    {
      "cell_type": "code",
      "source": [
        "#df.sort_values(by = 'id')\n",
        "#Da pra fazer uma limpeza melhor dos dados"
      ],
      "metadata": {
        "id": "Kk-DBDCdWh8F"
      },
      "execution_count": 25,
      "outputs": []
    },
    {
      "cell_type": "markdown",
      "source": [
        "# Perguntas de negócio: Parte 02."
      ],
      "metadata": {
        "id": "b1R6opNBgQba"
      }
    },
    {
      "cell_type": "markdown",
      "source": [
        "# 1) Qual a data do imóvel mais antigo"
      ],
      "metadata": {
        "id": "5SfrPjEbgYI4"
      }
    },
    {
      "cell_type": "markdown",
      "source": [
        "### **Resposta:** As casas mais estão registradas na data 02/05/2014"
      ],
      "metadata": {
        "id": "DBkAqIYIkHNh"
      }
    },
    {
      "cell_type": "code",
      "source": [
        "df['date'].sort_values(ascending = False)\n",
        "#df.sort_values('date') - é possível passar a coluna data como parâmetro."
      ],
      "metadata": {
        "colab": {
          "base_uri": "https://localhost:8080/"
        },
        "id": "nafjBKiggXdA",
        "outputId": "604ad773-f32e-43b5-874e-b8805faf34ec"
      },
      "execution_count": 26,
      "outputs": [
        {
          "output_type": "execute_result",
          "data": {
            "text/plain": [
              "16594   2015-05-27\n",
              "13053   2015-05-24\n",
              "5637    2015-05-15\n",
              "928     2015-05-14\n",
              "6197    2015-05-14\n",
              "           ...    \n",
              "20559   2014-05-02\n",
              "7323    2014-05-02\n",
              "12366   2014-05-02\n",
              "9587    2014-05-02\n",
              "8326    2014-05-02\n",
              "Name: date, Length: 21613, dtype: datetime64[ns]"
            ]
          },
          "metadata": {},
          "execution_count": 26
        }
      ]
    },
    {
      "cell_type": "markdown",
      "source": [
        "# 02) Quantos imóveis possuem o n° máximo de andares\n",
        "\n",
        "  - Encontrar os andares e selecionar o maior utilizando `df.floors.unique()`.\n",
        "  - Para contar quantos imóveis pelo andar: criar uma seleção: `df['floors'] == 3.5` que vai retornar um boolean.\n",
        "  - Depois tem que passar isso como condição para o df fazer a filtragem dos valores `True`, ficando: `df[df['floors'] == 3.5]`\n",
        "  - Por fim é possível passar uma lista para visualizar apenas as colunas desejadas."
      ],
      "metadata": {
        "id": "2ZD2U10Akczy"
      }
    },
    {
      "cell_type": "markdown",
      "source": [
        "### **Resposta:** 8 imóveis."
      ],
      "metadata": {
        "id": "WNDmPcZ5m1UR"
      }
    },
    {
      "cell_type": "code",
      "source": [
        "df[df['floors']==3.5][['floors','id']]"
      ],
      "metadata": {
        "colab": {
          "base_uri": "https://localhost:8080/",
          "height": 300
        },
        "id": "i2JHSiQuk66Z",
        "outputId": "9aa80fd3-355f-49be-ad5d-e9a203ac1287"
      },
      "execution_count": 27,
      "outputs": [
        {
          "output_type": "execute_result",
          "data": {
            "text/plain": [
              "       floors          id\n",
              "875      3.50  6306400140\n",
              "10077    3.50  1972202010\n",
              "11594    3.50  3180100023\n",
              "14885    3.50  8673400177\n",
              "15424    3.50  1702900664\n",
              "18477    3.50  1346300150\n",
              "20308    3.50  1972200426\n",
              "20772    3.50  1972200428"
            ],
            "text/html": [
              "\n",
              "  <div id=\"df-6e0a17a6-8ec5-4911-bbbe-fe1c4e4400c8\">\n",
              "    <div class=\"colab-df-container\">\n",
              "      <div>\n",
              "<style scoped>\n",
              "    .dataframe tbody tr th:only-of-type {\n",
              "        vertical-align: middle;\n",
              "    }\n",
              "\n",
              "    .dataframe tbody tr th {\n",
              "        vertical-align: top;\n",
              "    }\n",
              "\n",
              "    .dataframe thead th {\n",
              "        text-align: right;\n",
              "    }\n",
              "</style>\n",
              "<table border=\"1\" class=\"dataframe\">\n",
              "  <thead>\n",
              "    <tr style=\"text-align: right;\">\n",
              "      <th></th>\n",
              "      <th>floors</th>\n",
              "      <th>id</th>\n",
              "    </tr>\n",
              "  </thead>\n",
              "  <tbody>\n",
              "    <tr>\n",
              "      <th>875</th>\n",
              "      <td>3.50</td>\n",
              "      <td>6306400140</td>\n",
              "    </tr>\n",
              "    <tr>\n",
              "      <th>10077</th>\n",
              "      <td>3.50</td>\n",
              "      <td>1972202010</td>\n",
              "    </tr>\n",
              "    <tr>\n",
              "      <th>11594</th>\n",
              "      <td>3.50</td>\n",
              "      <td>3180100023</td>\n",
              "    </tr>\n",
              "    <tr>\n",
              "      <th>14885</th>\n",
              "      <td>3.50</td>\n",
              "      <td>8673400177</td>\n",
              "    </tr>\n",
              "    <tr>\n",
              "      <th>15424</th>\n",
              "      <td>3.50</td>\n",
              "      <td>1702900664</td>\n",
              "    </tr>\n",
              "    <tr>\n",
              "      <th>18477</th>\n",
              "      <td>3.50</td>\n",
              "      <td>1346300150</td>\n",
              "    </tr>\n",
              "    <tr>\n",
              "      <th>20308</th>\n",
              "      <td>3.50</td>\n",
              "      <td>1972200426</td>\n",
              "    </tr>\n",
              "    <tr>\n",
              "      <th>20772</th>\n",
              "      <td>3.50</td>\n",
              "      <td>1972200428</td>\n",
              "    </tr>\n",
              "  </tbody>\n",
              "</table>\n",
              "</div>\n",
              "      <button class=\"colab-df-convert\" onclick=\"convertToInteractive('df-6e0a17a6-8ec5-4911-bbbe-fe1c4e4400c8')\"\n",
              "              title=\"Convert this dataframe to an interactive table.\"\n",
              "              style=\"display:none;\">\n",
              "        \n",
              "  <svg xmlns=\"http://www.w3.org/2000/svg\" height=\"24px\"viewBox=\"0 0 24 24\"\n",
              "       width=\"24px\">\n",
              "    <path d=\"M0 0h24v24H0V0z\" fill=\"none\"/>\n",
              "    <path d=\"M18.56 5.44l.94 2.06.94-2.06 2.06-.94-2.06-.94-.94-2.06-.94 2.06-2.06.94zm-11 1L8.5 8.5l.94-2.06 2.06-.94-2.06-.94L8.5 2.5l-.94 2.06-2.06.94zm10 10l.94 2.06.94-2.06 2.06-.94-2.06-.94-.94-2.06-.94 2.06-2.06.94z\"/><path d=\"M17.41 7.96l-1.37-1.37c-.4-.4-.92-.59-1.43-.59-.52 0-1.04.2-1.43.59L10.3 9.45l-7.72 7.72c-.78.78-.78 2.05 0 2.83L4 21.41c.39.39.9.59 1.41.59.51 0 1.02-.2 1.41-.59l7.78-7.78 2.81-2.81c.8-.78.8-2.07 0-2.86zM5.41 20L4 18.59l7.72-7.72 1.47 1.35L5.41 20z\"/>\n",
              "  </svg>\n",
              "      </button>\n",
              "      \n",
              "  <style>\n",
              "    .colab-df-container {\n",
              "      display:flex;\n",
              "      flex-wrap:wrap;\n",
              "      gap: 12px;\n",
              "    }\n",
              "\n",
              "    .colab-df-convert {\n",
              "      background-color: #E8F0FE;\n",
              "      border: none;\n",
              "      border-radius: 50%;\n",
              "      cursor: pointer;\n",
              "      display: none;\n",
              "      fill: #1967D2;\n",
              "      height: 32px;\n",
              "      padding: 0 0 0 0;\n",
              "      width: 32px;\n",
              "    }\n",
              "\n",
              "    .colab-df-convert:hover {\n",
              "      background-color: #E2EBFA;\n",
              "      box-shadow: 0px 1px 2px rgba(60, 64, 67, 0.3), 0px 1px 3px 1px rgba(60, 64, 67, 0.15);\n",
              "      fill: #174EA6;\n",
              "    }\n",
              "\n",
              "    [theme=dark] .colab-df-convert {\n",
              "      background-color: #3B4455;\n",
              "      fill: #D2E3FC;\n",
              "    }\n",
              "\n",
              "    [theme=dark] .colab-df-convert:hover {\n",
              "      background-color: #434B5C;\n",
              "      box-shadow: 0px 1px 3px 1px rgba(0, 0, 0, 0.15);\n",
              "      filter: drop-shadow(0px 1px 2px rgba(0, 0, 0, 0.3));\n",
              "      fill: #FFFFFF;\n",
              "    }\n",
              "  </style>\n",
              "\n",
              "      <script>\n",
              "        const buttonEl =\n",
              "          document.querySelector('#df-6e0a17a6-8ec5-4911-bbbe-fe1c4e4400c8 button.colab-df-convert');\n",
              "        buttonEl.style.display =\n",
              "          google.colab.kernel.accessAllowed ? 'block' : 'none';\n",
              "\n",
              "        async function convertToInteractive(key) {\n",
              "          const element = document.querySelector('#df-6e0a17a6-8ec5-4911-bbbe-fe1c4e4400c8');\n",
              "          const dataTable =\n",
              "            await google.colab.kernel.invokeFunction('convertToInteractive',\n",
              "                                                     [key], {});\n",
              "          if (!dataTable) return;\n",
              "\n",
              "          const docLinkHtml = 'Like what you see? Visit the ' +\n",
              "            '<a target=\"_blank\" href=https://colab.research.google.com/notebooks/data_table.ipynb>data table notebook</a>'\n",
              "            + ' to learn more about interactive tables.';\n",
              "          element.innerHTML = '';\n",
              "          dataTable['output_type'] = 'display_data';\n",
              "          await google.colab.output.renderOutput(dataTable, element);\n",
              "          const docLink = document.createElement('div');\n",
              "          docLink.innerHTML = docLinkHtml;\n",
              "          element.appendChild(docLink);\n",
              "        }\n",
              "      </script>\n",
              "    </div>\n",
              "  </div>\n",
              "  "
            ]
          },
          "metadata": {},
          "execution_count": 27
        }
      ]
    },
    {
      "cell_type": "markdown",
      "source": [
        "# 3. Criar uma classificação para os imóveis\n",
        "* Acima de RS540.000 -> alto padrão\n",
        "* Abaixo -> baixo padrão\n",
        "* Criar coluna low_standard e high_standard\n",
        "    * Optei por fazer com `lambda` por ser mais prático.\n",
        "    * Outra alternativa é criar uma coluna level com atribuição standard e passar a filtragem atribuindo a classificação high_standard: `df.loc[df['price']>540000,'level'] = 'high_standard']`"
      ],
      "metadata": {
        "id": "q9gsvwyDqLl5"
      }
    },
    {
      "cell_type": "code",
      "source": [
        "df['level'] = df['price'].apply(lambda x: 'standard' if x < 540000 else 'high_standard')\n"
      ],
      "metadata": {
        "id": "fp5DqKsGk7ox"
      },
      "execution_count": 28,
      "outputs": []
    },
    {
      "cell_type": "markdown",
      "source": [
        "# 4) Relatório ordenado pelo preço e contendo as informações:\n",
        "    * id \n",
        "    * data que o imóvel ficou disponível\n",
        "    * n° quartos\n",
        "    * tamanho total do terreno\n",
        "    * preço\n",
        "    * classificação\n",
        "    * Selecionar colunas desejadas ou deletar as não desejadas."
      ],
      "metadata": {
        "id": "GxbgKHRwEFsQ"
      }
    },
    {
      "cell_type": "code",
      "source": [
        "df[['id','date','bedrooms','price','level']].sort_values('price',ascending = False)"
      ],
      "metadata": {
        "id": "jq9xuacWEFdm"
      },
      "execution_count": null,
      "outputs": []
    },
    {
      "cell_type": "markdown",
      "source": [
        "Exportando o relatório para csv"
      ],
      "metadata": {
        "id": "2q2tIZgzFp9i"
      }
    },
    {
      "cell_type": "code",
      "source": [
        "df.to_csv('relatório_solicitado.csv',sep = ';', index = False)"
      ],
      "metadata": {
        "id": "D9f48e0sk7j-"
      },
      "execution_count": 34,
      "outputs": []
    },
    {
      "cell_type": "markdown",
      "source": [
        "# 5) Um mapa de localização"
      ],
      "metadata": {
        "id": "Lh5Mn_DGGQ3C"
      }
    },
    {
      "cell_type": "markdown",
      "source": [
        "Utilizando Plotly\n",
        "* Parâmetros:\n",
        "  * `hover_name` - informar nome ao passar o mouse por cima.\n",
        "  * `hover_data` - informar um dado auxiliar\n",
        "  * `color_discrete_sequence` `=['fuchsia']` - define a cor do ponto no mapa. \n"
      ],
      "metadata": {
        "id": "Bq60FWvpHJmZ"
      }
    },
    {
      "cell_type": "code",
      "source": [
        "data_mapa = df[['id','lat','long', 'price']]"
      ],
      "metadata": {
        "id": "6YDQTPaKk7hY"
      },
      "execution_count": 37,
      "outputs": []
    },
    {
      "cell_type": "code",
      "source": [
        "mapa = px.scatter_mapbox(data_mapa, lat= 'lat', lon= 'long', hover_name = 'id',\n",
        "hover_data = ['price'], color_discrete_sequence=['fuchsia'],\n",
        "zoom = 3,\n",
        "height = 300)"
      ],
      "metadata": {
        "id": "VlHamNKrIA8v"
      },
      "execution_count": 41,
      "outputs": []
    },
    {
      "cell_type": "markdown",
      "source": [
        "Melhorias no mapa com a função de layout:\n",
        "Plotando com o estilo urbano."
      ],
      "metadata": {
        "id": "-zBGr_MjK8_Z"
      }
    },
    {
      "cell_type": "code",
      "source": [
        "mapa.update_layout(mapbox_style='open-street-map')\n",
        "mapa.update_layout(height = 600, margin={'r': 0, 't':0,'l':0, 'b':0})\n",
        "#mapa.write('mapa_house_rocket.html)"
      ],
      "metadata": {
        "id": "f6PEOfu2K7bk"
      },
      "execution_count": null,
      "outputs": []
    },
    {
      "cell_type": "markdown",
      "source": [
        "Elementos extras que adicionei:\n",
        "* Visualizações em Seaborn\n",
        "* Formatação das casas decimais\n",
        "* Formatação das datas para o padrão Dia-Mês-Ano\n",
        "* Utilização de lambda para agilizar a classificação do padrão dos imóveis\n"
      ],
      "metadata": {
        "id": "zs5afiUffru6"
      }
    }
  ]
}